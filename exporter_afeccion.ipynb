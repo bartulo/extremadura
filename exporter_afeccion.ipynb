{
 "cells": [
  {
   "cell_type": "code",
   "execution_count": 14,
   "metadata": {},
   "outputs": [],
   "source": [
    "import psycopg2\n",
    "import pandas as pd\n",
    "from jinja2 import Environment, FileSystemLoader\n",
    "from config import config\n",
    "\n",
    "capitulos = [\n",
    "    ('Objetivo', 'objetivo'),\n",
    "    ('Descripción de las actuaciones', 'descripcion'),\n",
    "    ('Características de la Red Natura 2000 en la que se encuentran las parcelas de actuación', 'caracteristicas'),\n",
    "    ('Efectos de las quemas prescritas sobre la RED NATURA 2000', 'efectos'),\n",
    "    ('Afecciones a los habitats de interés comunitario presentes en el ZEC', 'afeccion_habitats'),\n",
    "    ('Afecciones a los taxones de interés comunitario presentes en el ZEC', 'afeccion_taxones'),\n",
    "    ('Conclusiones', 'conclusiones')\n",
    "]\n",
    "env = Environment(loader=FileSystemLoader('static/afeccion'))\n",
    "template =env.get_template('base.html')\n",
    "output = template.render(\n",
    "    capitulos = capitulos\n",
    ")\n",
    "\n",
    "with open('static/afeccion/afeccion.html', 'w') as f:\n",
    "    f.write(output)"
   ]
  }
 ],
 "metadata": {
  "kernelspec": {
   "display_name": "Python 3",
   "language": "python",
   "name": "python3"
  },
  "language_info": {
   "codemirror_mode": {
    "name": "ipython",
    "version": 3
   },
   "file_extension": ".py",
   "mimetype": "text/x-python",
   "name": "python",
   "nbconvert_exporter": "python",
   "pygments_lexer": "ipython3",
   "version": "3.7.6"
  }
 },
 "nbformat": 4,
 "nbformat_minor": 4
}
