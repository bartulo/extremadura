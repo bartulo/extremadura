{
 "cells": [
  {
   "cell_type": "code",
   "execution_count": 9,
   "metadata": {
    "hide_input": true,
    "scrolled": false
   },
   "outputs": [
    {
     "data": {
      "text/plain": [
       "geopandas.geoseries.GeoSeries"
      ]
     },
     "metadata": {},
     "output_type": "display_data"
    },
    {
     "data": {
      "text/plain": [
       "geopandas.geoseries.GeoSeries"
      ]
     },
     "metadata": {},
     "output_type": "display_data"
    },
    {
     "data": {
      "text/plain": [
       "geopandas.geoseries.GeoSeries"
      ]
     },
     "metadata": {},
     "output_type": "display_data"
    },
    {
     "data": {
      "text/plain": [
       "geopandas.geoseries.GeoSeries"
      ]
     },
     "metadata": {},
     "output_type": "display_data"
    },
    {
     "data": {
      "text/plain": [
       "geopandas.geoseries.GeoSeries"
      ]
     },
     "metadata": {},
     "output_type": "display_data"
    },
    {
     "data": {
      "text/plain": [
       "geopandas.geoseries.GeoSeries"
      ]
     },
     "metadata": {},
     "output_type": "display_data"
    },
    {
     "data": {
      "text/plain": [
       "geopandas.geoseries.GeoSeries"
      ]
     },
     "metadata": {},
     "output_type": "display_data"
    },
    {
     "data": {
      "text/plain": [
       "geopandas.geoseries.GeoSeries"
      ]
     },
     "metadata": {},
     "output_type": "display_data"
    },
    {
     "data": {
      "text/plain": [
       "geopandas.geoseries.GeoSeries"
      ]
     },
     "metadata": {},
     "output_type": "display_data"
    },
    {
     "data": {
      "text/plain": [
       "geopandas.geoseries.GeoSeries"
      ]
     },
     "metadata": {},
     "output_type": "display_data"
    },
    {
     "data": {
      "text/plain": [
       "geopandas.geoseries.GeoSeries"
      ]
     },
     "metadata": {},
     "output_type": "display_data"
    },
    {
     "data": {
      "text/plain": [
       "geopandas.geoseries.GeoSeries"
      ]
     },
     "metadata": {},
     "output_type": "display_data"
    },
    {
     "data": {
      "text/plain": [
       "geopandas.geoseries.GeoSeries"
      ]
     },
     "metadata": {},
     "output_type": "display_data"
    },
    {
     "data": {
      "text/plain": [
       "geopandas.geoseries.GeoSeries"
      ]
     },
     "metadata": {},
     "output_type": "display_data"
    },
    {
     "data": {
      "text/plain": [
       "geopandas.geoseries.GeoSeries"
      ]
     },
     "metadata": {},
     "output_type": "display_data"
    },
    {
     "data": {
      "text/plain": [
       "geopandas.geoseries.GeoSeries"
      ]
     },
     "metadata": {},
     "output_type": "display_data"
    },
    {
     "data": {
      "text/plain": [
       "geopandas.geoseries.GeoSeries"
      ]
     },
     "metadata": {},
     "output_type": "display_data"
    },
    {
     "data": {
      "text/plain": [
       "geopandas.geoseries.GeoSeries"
      ]
     },
     "metadata": {},
     "output_type": "display_data"
    },
    {
     "data": {
      "text/plain": [
       "geopandas.geoseries.GeoSeries"
      ]
     },
     "metadata": {},
     "output_type": "display_data"
    },
    {
     "data": {
      "text/plain": [
       "geopandas.geoseries.GeoSeries"
      ]
     },
     "metadata": {},
     "output_type": "display_data"
    }
   ],
   "source": [
    "import psycopg2\n",
    "import pandas as pd\n",
    "import geopandas as gpd\n",
    "import matplotlib.pyplot as plt\n",
    "import cartopy.crs as ccrs\n",
    "import requests\n",
    "from bs4 import BeautifulSoup\n",
    "from IPython.core.display import HTML\n",
    "from requests.auth import HTTPBasicAuth\n",
    "from config import config\n",
    "\n",
    "#TODO solo tengo incendios con el huso 30 de caceres ampliar a huso 29 y ávila y salamanca\n",
    "\n",
    "# DATOS INCENDIOS\n",
    "params = config()\n",
    "conn = psycopg2.connect(**params)\n",
    "cur = conn.cursor()\n",
    "    \n",
    "# DATOS MAPA \n",
    "\n",
    "sql = '''SELECT * \n",
    "        FROM incendios_proximos_ze \n",
    "        ORDER by tot desc\n",
    "        '''\n",
    "\n",
    "ze = gpd.read_file('../BRUTOS/cartografia/zona_estudio.shp')\n",
    "inc = gpd.read_postgis(sql, conn)[:20]\n",
    "conn.close()\n",
    "proj = ccrs.TransverseMercator(central_longitude=-3.0,central_latitude=0.0,\n",
    "                           false_easting=500000.0,false_northing=0.0,\n",
    "                           scale_factor=0.9996)\n",
    "\n",
    "\n",
    "\n",
    "# DATOS METEO    \n",
    "    \n",
    "for key, value in inc.iterrows():\n",
    "    fecha = value['deteccion']\n",
    "    dia = fecha.strftime('%d')\n",
    "    mes = fecha.strftime('%m')\n",
    "    anho = fecha.strftime('%Y')\n",
    "    \n",
    "    redarex_url = 'http://redarexplus.gobex.es/REDAREX_plus/index.php'\n",
    "    redarex_data = {\n",
    "        'fecha_desde':'{}/{}/{}'.format(dia,mes,anho), \n",
    "        'fecha_hasta':'{}/{}/{}'.format(dia,mes,anho), \n",
    "        'chkTempMedia':'on',\n",
    "        'chkHumedadRelativaMed': 'on',\n",
    "        'chkVelViento': 'on',\n",
    "        'chkDireccionViento': 'on',\n",
    "        'aceptar':'Consultar', \n",
    "        'estacionesSeleccionadas':'10_13'\n",
    "    }\n",
    "    date = []\n",
    "    hora = []\n",
    "    temp = []\n",
    "    hrel = []\n",
    "    velviento = []\n",
    "    dirviento = []\n",
    "    \n",
    "    for n in range(0, 48, 12):\n",
    "        redarex_params = {\n",
    "            'modulo':'agrometeorologia', \n",
    "            'camino': 'Agrometeorolog%EDa', \n",
    "            'pagina':'datos.php', \n",
    "            'rango':'semihorarios', \n",
    "            'estacionesSeleccionadas': \n",
    "            '10_13', \n",
    "            'paginando':'on', \n",
    "            'limite':n\n",
    "        }\n",
    "        r = requests.post(redarex_url, params=redarex_params, auth=HTTPBasicAuth('bartulo@gmail.com', 'ventanuco'), data=redarex_data)\n",
    "        soup = BeautifulSoup(r.content, 'html.parser')\n",
    "        \n",
    "        for j in range(12):\n",
    "            a = soup.findAll('td', class_='txt_normal')\n",
    "            date.append(a[j * 6 + 6].find('font').text.strip())\n",
    "            hora.append(a[j * 6 + 7].find('font').text.strip())\n",
    "            temp.append(float(a[j * 6 + 8].find('font').text.strip()))\n",
    "            hrel.append(float(a[j * 6 + 9].find('font').text.strip()))\n",
    "            velviento.append(float(a[j * 6 + 10].find('font').text.strip()))\n",
    "            dirviento.append(float(a[j * 6 + 11].find('font').text.strip()))\n",
    "            \n",
    "    tabla = pd.DataFrame({'fecha': date, 'hora': hora, 'temperatura media': temp, 'humedad rel. media': hrel, 'velocidad viento':velviento, 'dirección viento': dirviento})\n",
    "\n",
    "    # PRIMER GRÁFICO\n",
    "\n",
    "    fig, ax1 = plt.subplots()\n",
    "    \n",
    "    plt.ylim([0,45])\n",
    "    color = 'tab:red'\n",
    "    ax1.set_xlabel('Hora {}'.format(date[0]))\n",
    "    ax1.set_ylabel('Temperatura (ºC)', color=color)\n",
    "    ax1.plot(hora, temp, color=color)\n",
    "    ax1.tick_params(axis='y', labelcolor=color)\n",
    "    \n",
    "    ax2 = ax1.twinx()\n",
    "    plt.ylim([0,100])\n",
    "    color = 'tab:blue'\n",
    "    ax2.set_ylabel('Humedad relativa (%)', color=color)\n",
    "    ax2.plot(hora, hrel)\n",
    "    ax2.tick_params(axis='y', labelcolor=color)\n",
    "    fig.tight_layout()\n",
    "    plt.xticks([6, 12, 18, 24, 30, 36, 42, 48])\n",
    "\n",
    "    f = '{}_{}_{}'.format(dia,mes,anho)\n",
    "    plt.savefig('static/images/plot1_{}'.format(f))\n",
    "    plt.close(fig)\n",
    "    \n",
    "    # SEGUNDO GRÁFICO\n",
    "    \n",
    "    fig2, ax3 = plt.subplots()\n",
    "    \n",
    "    plt.ylim([0,5])\n",
    "    color = 'tab:orange'\n",
    "    ax3.set_xlabel('Hora {}'.format(date[0]))\n",
    "    ax3.set_ylabel('Velocidad del viento (m/s)', color=color)\n",
    "    ax3.plot(hora, velviento, color=color)\n",
    "    ax3.tick_params(axis='y', labelcolor=color)\n",
    "    \n",
    "    ax4 = ax3.twinx()\n",
    "    plt.ylim([0,360])\n",
    "    color = 'tab:green'\n",
    "    ax4.set_ylabel('Dirección del viento', color=color)\n",
    "    ax4.plot(hora, dirviento, color=color)\n",
    "    ax4.tick_params(axis='y', labelcolor=color)\n",
    "    fig.tight_layout()\n",
    "    plt.xticks([6, 12, 18, 24, 30, 36, 42, 48])\n",
    "\n",
    "    plt.savefig('static/images/plot2_{}'.format(f))\n",
    "    plt.close(fig2)\n",
    "    \n",
    "    # MAPA\n",
    "    \n",
    "    fig3 = plt.figure(figsize=(12,8))\n",
    "    ax5 = plt.axes(projection=proj)\n",
    "    minx = float(ze.bounds.min()['minx'] - 8000)\n",
    "    maxx = float(ze.bounds.max()['maxx'] + 8000)\n",
    "    miny = float(ze.bounds.min()['miny'] - 8000)\n",
    "    maxy = float(ze.bounds.max()['maxy'] + 8000)\n",
    "    ax5.set_extent([minx, maxx, miny, maxy], crs=proj)\n",
    "    ax5.add_wms(wms='https://www.ign.es/wms-inspire/mapa-raster', layers=['mtn_rasterizado'])\n",
    "    ze.plot(ax=ax5,alpha=0.5)\n",
    "    inc.loc[[key], 'geom'].plot(ax=ax5, color='red', markersize=300)\n",
    "    plt.savefig('static/images/incendio_{}'.format(value['idpif']), bbox_inches='tight', pad_inches=0)\n",
    "    plt.close(fig3)\n",
    "    \n",
    "    display(type(inc.loc[[key], 'geom']))"
   ]
  }
 ],
 "metadata": {
  "celltoolbar": "Edit Metadata",
  "kernelspec": {
   "display_name": "Python 3",
   "language": "python",
   "name": "python3"
  },
  "language_info": {
   "codemirror_mode": {
    "name": "ipython",
    "version": 3
   },
   "file_extension": ".py",
   "mimetype": "text/x-python",
   "name": "python",
   "nbconvert_exporter": "python",
   "pygments_lexer": "ipython3",
   "version": "3.7.6"
  }
 },
 "nbformat": 4,
 "nbformat_minor": 4
}
