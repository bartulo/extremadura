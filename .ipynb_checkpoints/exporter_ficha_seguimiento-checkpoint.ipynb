{
 "cells": [
  {
   "cell_type": "code",
   "execution_count": 64,
   "metadata": {
    "scrolled": false
   },
   "outputs": [],
   "source": [
    "import psycopg2\n",
    "import pandas as pd\n",
    "import geopandas as gpd\n",
    "from jinja2 import Environment, FileSystemLoader\n",
    "from config import config\n",
    "\n",
    "params = config()\n",
    "conn = psycopg2.connect(**params)\n",
    "\n",
    "a = !ls ../FINALES/PARCELAS/TORNAVACAS/*shp\n",
    "parcelas = list(map(lambda x: x.split('/')[-1].split('.')[0], a))\n",
    "parcelas_dict = []\n",
    "for parcela in parcelas:\n",
    "#     for index, value in p.iterrows():\n",
    "#         display(value.geom)\n",
    "#     # SUPERFICIE\n",
    "    \n",
    "    sup = gpd.read_postgis('''\n",
    "                SELECT\n",
    "                    geom,\n",
    "                    ST_Area(ST_Transform(a.geom, 25830)) / 10000 as sup, \n",
    "                    ST_Perimeter(ST_Transform(a.geom, 25830)) as perim,\n",
    "                    (ST_SummaryStats(St_Union(ST_Clip(b.rast, st_transform(geom, 25830))))).min as pend_min,\n",
    "                    (ST_SummaryStats(St_Union(ST_Clip(b.rast, st_transform(geom, 25830))))).max as pend_max,\n",
    "                    (ST_SummaryStats(St_Union(ST_Clip(b.rast, st_transform(geom, 25830))))).mean as pend_mean,\n",
    "                    (ST_SummaryStats(St_Union(ST_Clip(c.rast, st_transform(geom, 25830))))).min as alt_min,\n",
    "                    (ST_SummaryStats(St_Union(ST_Clip(c.rast, st_transform(geom, 25830))))).max as alt_max,\n",
    "                    (ST_SummaryStats(St_Union(ST_Clip(c.rast, st_transform(geom, 25830))))).mean as alt_mean,\n",
    "                    (ST_SummaryStats(St_Union(ST_Clip(d.rast, st_transform(geom, 25830))))).mean as orient\n",
    "                FROM \n",
    "                    {} a,\n",
    "                    pendientes25 b,\n",
    "                    mdt25 c,\n",
    "                    orientaciones25 d\n",
    "                GROUP BY\n",
    "                    a.geom\n",
    "                '''.format(parcela), conn)\n",
    "    parcelas_dict.append({'nombre': parcela, 'datos':sup.to_dict(orient='records')})\n",
    "env = Environment(loader=FileSystemLoader('static/ficha_ejecucion'))\n",
    "template =env.get_template('base.html')\n",
    "output = template.render(\n",
    "    parcelas = parcelas_dict\n",
    ")\n",
    "\n",
    "with open('static/ficha_ejecucion/ficha_ejecucion.html', 'w') as f:\n",
    "    f.write(output)"
   ]
  }
 ],
 "metadata": {
  "kernelspec": {
   "display_name": "Python 3",
   "language": "python",
   "name": "python3"
  },
  "language_info": {
   "codemirror_mode": {
    "name": "ipython",
    "version": 3
   },
   "file_extension": ".py",
   "mimetype": "text/x-python",
   "name": "python",
   "nbconvert_exporter": "python",
   "pygments_lexer": "ipython3",
   "version": "3.7.6"
  }
 },
 "nbformat": 4,
 "nbformat_minor": 4
}
