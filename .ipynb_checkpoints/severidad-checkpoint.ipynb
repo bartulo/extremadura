{
 "cells": [
  {
   "cell_type": "code",
   "execution_count": 11,
   "metadata": {
    "scrolled": false
   },
   "outputs": [
    {
     "data": {
      "text/plain": [
       "264773.9062095532"
      ]
     },
     "metadata": {},
     "output_type": "display_data"
    },
    {
     "data": {
      "text/plain": [
       "269321.52290223876"
      ]
     },
     "metadata": {},
     "output_type": "display_data"
    },
    {
     "data": {
      "text/plain": [
       "266355.5564117215"
      ]
     },
     "metadata": {},
     "output_type": "display_data"
    },
    {
     "data": {
      "text/plain": [
       "269321.52290223876"
      ]
     },
     "metadata": {},
     "output_type": "display_data"
    },
    {
     "data": {
      "text/plain": [
       "264773.9062095532"
      ]
     },
     "metadata": {},
     "output_type": "display_data"
    },
    {
     "data": {
      "text/plain": [
       "266780.0083491311"
      ]
     },
     "metadata": {},
     "output_type": "display_data"
    },
    {
     "data": {
      "text/plain": [
       "266355.5564117215"
      ]
     },
     "metadata": {},
     "output_type": "display_data"
    },
    {
     "data": {
      "text/plain": [
       "266780.0083491311"
      ]
     },
     "metadata": {},
     "output_type": "display_data"
    },
    {
     "data": {
      "text/plain": [
       "264773.9062095532"
      ]
     },
     "metadata": {},
     "output_type": "display_data"
    },
    {
     "data": {
      "text/plain": [
       "264370.89752169605"
      ]
     },
     "metadata": {},
     "output_type": "display_data"
    },
    {
     "data": {
      "text/plain": [
       "266355.5564117215"
      ]
     },
     "metadata": {},
     "output_type": "display_data"
    },
    {
     "data": {
      "text/plain": [
       "264370.89752169605"
      ]
     },
     "metadata": {},
     "output_type": "display_data"
    },
    {
     "data": {
      "text/plain": [
       "264773.9062095532"
      ]
     },
     "metadata": {},
     "output_type": "display_data"
    },
    {
     "data": {
      "text/plain": [
       "260398.369156283"
      ]
     },
     "metadata": {},
     "output_type": "display_data"
    },
    {
     "data": {
      "text/plain": [
       "266355.5564117215"
      ]
     },
     "metadata": {},
     "output_type": "display_data"
    },
    {
     "data": {
      "text/plain": [
       "260398.369156283"
      ]
     },
     "metadata": {},
     "output_type": "display_data"
    },
    {
     "data": {
      "text/plain": [
       "264773.9062095532"
      ]
     },
     "metadata": {},
     "output_type": "display_data"
    },
    {
     "data": {
      "text/plain": [
       "270119.95286815683"
      ]
     },
     "metadata": {},
     "output_type": "display_data"
    },
    {
     "data": {
      "text/plain": [
       "266355.5564117215"
      ]
     },
     "metadata": {},
     "output_type": "display_data"
    },
    {
     "data": {
      "text/plain": [
       "270119.95286815683"
      ]
     },
     "metadata": {},
     "output_type": "display_data"
    },
    {
     "data": {
      "text/plain": [
       "288243.7356268273"
      ]
     },
     "metadata": {},
     "output_type": "display_data"
    },
    {
     "data": {
      "text/plain": [
       "289552.27581890114"
      ]
     },
     "metadata": {},
     "output_type": "display_data"
    },
    {
     "data": {
      "text/plain": [
       "288243.7356268273"
      ]
     },
     "metadata": {},
     "output_type": "display_data"
    },
    {
     "data": {
      "text/plain": [
       "288309.88965010724"
      ]
     },
     "metadata": {},
     "output_type": "display_data"
    },
    {
     "data": {
      "text/plain": [
       "288243.7356268273"
      ]
     },
     "metadata": {},
     "output_type": "display_data"
    },
    {
     "data": {
      "text/plain": [
       "287953.20693747094"
      ]
     },
     "metadata": {},
     "output_type": "display_data"
    },
    {
     "data": {
      "text/plain": [
       "288243.7356268273"
      ]
     },
     "metadata": {},
     "output_type": "display_data"
    },
    {
     "data": {
      "text/plain": [
       "294423.3196333789"
      ]
     },
     "metadata": {},
     "output_type": "display_data"
    },
    {
     "data": {
      "text/plain": [
       "288243.7356268273"
      ]
     },
     "metadata": {},
     "output_type": "display_data"
    },
    {
     "data": {
      "text/plain": [
       "298095.90222077"
      ]
     },
     "metadata": {},
     "output_type": "display_data"
    },
    {
     "data": {
      "text/plain": [
       "276685.72321779374"
      ]
     },
     "metadata": {},
     "output_type": "display_data"
    },
    {
     "data": {
      "text/plain": [
       "276070.2723020204"
      ]
     },
     "metadata": {},
     "output_type": "display_data"
    },
    {
     "data": {
      "text/plain": [
       "276685.72321779374"
      ]
     },
     "metadata": {},
     "output_type": "display_data"
    },
    {
     "data": {
      "text/plain": [
       "277100.4070158298"
      ]
     },
     "metadata": {},
     "output_type": "display_data"
    },
    {
     "data": {
      "text/plain": [
       "276685.72321779374"
      ]
     },
     "metadata": {},
     "output_type": "display_data"
    },
    {
     "data": {
      "text/plain": [
       "280490.0492049968"
      ]
     },
     "metadata": {},
     "output_type": "display_data"
    },
    {
     "data": {
      "text/plain": [
       "276685.72321779374"
      ]
     },
     "metadata": {},
     "output_type": "display_data"
    },
    {
     "data": {
      "text/plain": [
       "278667.7732670632"
      ]
     },
     "metadata": {},
     "output_type": "display_data"
    },
    {
     "data": {
      "text/plain": [
       "276685.72321779374"
      ]
     },
     "metadata": {},
     "output_type": "display_data"
    },
    {
     "data": {
      "text/plain": [
       "276083.8647861964"
      ]
     },
     "metadata": {},
     "output_type": "display_data"
    }
   ],
   "source": [
    "import rasterio\n",
    "import geopandas as gpd\n",
    "import matplotlib.pyplot as plt\n",
    "from matplotlib import colors\n",
    "import matplotlib.patches as mpatches\n",
    "import cartopy.crs as ccrs\n",
    "import psycopg2\n",
    "from config import config\n",
    "from rasterio.plot import show\n",
    "from IPython.core.display import HTML\n",
    "from jinja2 import Environment, FileSystemLoader\n",
    "\n",
    "params = config()\n",
    "conn = psycopg2.connect(**params)\n",
    "\n",
    "zonas = [{'zonas': ['jerte', 'tornavacas'], \n",
    "              'incendios': ['1133522', '1143015', '1143273', '574176', '1164099']},\n",
    "            {'zonas': ['madrigal'], 'incendios': ['1122656', '1132420', '1133464', '1163320', '1163391']},\n",
    "            {'zonas': ['losar'], 'incendios': ['1163407', '569396', '1169767', '574250', '1122672']}]\n",
    "\n",
    "#incendios = ['1122656', '1132420', '1133464', '1163320', '1163391']\n",
    "# incendios = ['1163407', '569396', '1169767', '574250', '1122672']\n",
    "\n",
    "incendios_dict = []\n",
    "\n",
    "for zona in zonas:\n",
    "    for incendio in zona['incendios']:\n",
    "        perimetro = gpd.read_postgis(\"select * from perimetros_utm where idpif = {}\".format(incendio), conn)\n",
    "\n",
    "        f = '../BRUTOS/incendios/dNBR/incendio_{}/incendio_{}.tif'.format(incendio, incendio)\n",
    "        src = rasterio.open(f)\n",
    "        proj = ccrs.epsg('25830')\n",
    "\n",
    "    #   IMÁGEN DE LA LOCALIZACIÓN DEL INCENDIO\n",
    "\n",
    "    #     fig = plt.figure(figsize=(24,18))\n",
    "    #     ax = plt.axes(projection=proj)\n",
    "        for z in zona['zonas']:\n",
    "            ze = gpd.read_postgis('select * from zona_estudio_{}'.format(z), conn)\n",
    "            display(ze.bounds.loc[0]['minx'], perimetro.bounds.min()['minx'])\n",
    "    #     minx = float(ze.loc[[2], 'geometry'].bounds.min()['minx'] - 2500)\n",
    "    #     maxx = float(ze.loc[[2], 'geometry'].bounds.max()['maxx'] + 1000)\n",
    "    #     miny = float(ze.loc[[2], 'geometry'].bounds.min()['miny'] - 1000)\n",
    "    #     maxy = float(ze.loc[[2], 'geometry'].bounds.max()['maxy'] + 1000)\n",
    "    #     ax.set_extent([minx, maxx, miny, maxy], crs=proj)\n",
    "\n",
    "    #     ax.add_wms(wms='https://www.ign.es/wms-inspire/mapa-raster', layers=['mtn_rasterizado'])\n",
    "    #     ax.add_geometries(ze.loc[[2], 'geometry'], facecolor=(0,0,0,0), edgecolor='black', linewidth=2, crs=proj)\n",
    "    #     #ax.add_geometries(ze.loc[[0], 'geometry'], facecolor=(0,0,0,0), edgecolor='black', linewidth=2, crs=proj)\n",
    "    #     perimetro.plot(ax=ax, alpha=0.4, edgecolor='black', linewidth=2, facecolor='red')\n",
    "\n",
    "    #     fig.savefig('static/images/perimetro_{}'.format(incendio), bbox_inches='tight', pad_inches=0)\n",
    "    #     plt.close(fig)\n",
    "\n",
    "    # # IMÁGEN dNBR SOBRE MAPA RASTER\n",
    "\n",
    "    #     fig2 = plt.figure(figsize=(24,18))\n",
    "    #     ax2 = plt.axes(projection=proj)\n",
    "    #     minx = float(perimetro.bounds.min()['minx'] - 1000)\n",
    "    #     maxx = float(perimetro.bounds.max()['maxx'] + 1000)\n",
    "    #     miny = float(perimetro.bounds.min()['miny'] - 1000)\n",
    "    #     maxy = float(perimetro.bounds.max()['maxy'] + 1000)\n",
    "    #     ax2.set_extent([minx, maxx, miny, maxy], crs=proj)\n",
    "\n",
    "    #     ax2.add_wms(wms='https://www.ign.es/wms-inspire/mapa-raster', layers=['mtn_rasterizado'])\n",
    "\n",
    "    #     levels = [-2, -0.66, -0.27, -0.1, 0.1]\n",
    "    #     clrs = ['red', 'orange', 'yellow', 'green', 'white']\n",
    "\n",
    "    #     cmap, nor = colors.from_levels_and_colors(levels, clrs,extend='max')\n",
    "\n",
    "    #     red_patch = mpatches.Patch(color='red', label='Máxima severidad')\n",
    "    #     orange_patch = mpatches.Patch(color='orange', label='Severidad moderada')\n",
    "    #     yellow_patch = mpatches.Patch(color='yellow', label='Baja severidad')\n",
    "    #     green_patch = mpatches.Patch(color='green', label='Zonas no quemadas')\n",
    "\n",
    "    #     show(src, ax=ax2, alpha=0.8, origin='upper', cmap=cmap)\n",
    "    #     plt.legend(handles=[red_patch, orange_patch, yellow_patch, green_patch])\n",
    "    #     fig2.savefig('static/images/dNBR_{}'.format(incendio), bbox_inches='tight', pad_inches=0)\n",
    "    #     plt.close(fig2)\n",
    "\n",
    "    #     # IMÁGEN PNOA ACTUAL de LA ZONA AFECTADA\n",
    "\n",
    "    #     fig3 = plt.figure(figsize=(24,18))\n",
    "    #     ax3 = plt.axes(projection=proj)\n",
    "    #     ax3.set_extent([minx, maxx, miny, maxy], crs=proj)\n",
    "\n",
    "    #     ax3.add_wms(wms='https://www.ign.es/wms-inspire/pnoa-ma', layers=['OI.OrthoimageCoverage'])\n",
    "\n",
    "    #     fig3.savefig('static/images/perimetro_PNOA_{}'.format(incendio), bbox_inches='tight', pad_inches=0)\n",
    "    #     plt.close(fig3)\n",
    "\n",
    "\n",
    "conn.close()"
   ]
  }
 ],
 "metadata": {
  "kernelspec": {
   "display_name": "Python 3",
   "language": "python",
   "name": "python3"
  },
  "language_info": {
   "codemirror_mode": {
    "name": "ipython",
    "version": 3
   },
   "file_extension": ".py",
   "mimetype": "text/x-python",
   "name": "python",
   "nbconvert_exporter": "python",
   "pygments_lexer": "ipython3",
   "version": "3.7.6"
  }
 },
 "nbformat": 4,
 "nbformat_minor": 4
}
