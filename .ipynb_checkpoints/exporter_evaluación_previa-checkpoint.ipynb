{
 "cells": [
  {
   "cell_type": "code",
   "execution_count": 6,
   "metadata": {},
   "outputs": [],
   "source": [
    "import psycopg2\n",
    "import pandas as pd\n",
    "from jinja2 import Environment, FileSystemLoader\n",
    "from config import config\n",
    "\n",
    "zonas = ['jerte', 'tornavacas', 'losar', 'madrigal']\n",
    "\n",
    "env = Environment(loader=FileSystemLoader('static/hidrografia'))\n",
    "template =env.get_template('base.html')\n",
    "output = template.render(\n",
    "    zonas = zonas,\n",
    ")\n",
    "\n",
    "with open('static/hidrografia/hidrografia.html', 'w') as f:\n",
    "    f.write(output)"
   ]
  }
 ],
 "metadata": {
  "kernelspec": {
   "display_name": "Python 3",
   "language": "python",
   "name": "python3"
  },
  "language_info": {
   "codemirror_mode": {
    "name": "ipython",
    "version": 3
   },
   "file_extension": ".py",
   "mimetype": "text/x-python",
   "name": "python",
   "nbconvert_exporter": "python",
   "pygments_lexer": "ipython3",
   "version": "3.7.6"
  }
 },
 "nbformat": 4,
 "nbformat_minor": 4
}
