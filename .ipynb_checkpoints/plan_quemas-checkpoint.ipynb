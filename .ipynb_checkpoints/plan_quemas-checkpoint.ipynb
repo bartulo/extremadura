{
 "cells": [
  {
   "cell_type": "code",
   "execution_count": 11,
   "metadata": {
    "scrolled": false
   },
   "outputs": [],
   "source": [
    "import psycopg2\n",
    "import geopandas as gpd\n",
    "import matplotlib.pyplot as plt\n",
    "from matplotlib import colors\n",
    "import matplotlib.patches as mpatches\n",
    "import cartopy.crs as ccrs\n",
    "from config import config\n",
    "\n",
    "params = config()\n",
    "conn = psycopg2.connect(**params)\n",
    "\n",
    "ze = gpd.read_postgis('select * from zona_estudio_tornavacas', conn)\n",
    "\n",
    "proj = ccrs.epsg('25830')\n",
    "\n",
    "fig = plt.figure(figsize=(24,18))\n",
    "ax = plt.axes(projection=proj)\n",
    "lim = ze.bounds\n",
    "ax.set_extent([lim['minx'],lim['maxx'], lim['miny'], lim['maxy']], crs=proj)\n",
    "ax.add_geometries(ze.loc[[0], 'geom'], facecolor=(0,0,0,0.2), linewidth=2, edgecolor='black', crs=proj)\n",
    "display(ze.loc[0]['geom'])\n",
    "# ax.add_wms(wms='https://www.ign.es/wms-inspire/mapa-raster', layers=['mtn_rasterizado'])\n",
    "\n",
    "a = !ls ../FINALES/PARCELAS/TORNAVACAS/*shp\n",
    "display(a)\n",
    "for index, parcela in enumerate(a):\n",
    "    nombre = parcela.split('/')[-1].split('.')[0]\n",
    "    p = gpd.read_postgis('select * from {}'.format(nombre), conn)\n",
    "    ax.add_geometries(p['geom'], facecolor=(0,0,1), edgecolor='red', linewidth=4, crs=ccrs.Geodetic())\n",
    "# fig.savefig('static/images_quemas/parcelas_tornavacas', bbox_inches='tight', pad_inches=0)\n",
    "plt.show()\n",
    "plt.close(fig)\n",
    "\n",
    "conn.close()"
   ]
  }
 ],
 "metadata": {
  "kernelspec": {
   "display_name": "Python 3",
   "language": "python",
   "name": "python3"
  },
  "language_info": {
   "codemirror_mode": {
    "name": "ipython",
    "version": 3
   },
   "file_extension": ".py",
   "mimetype": "text/x-python",
   "name": "python",
   "nbconvert_exporter": "python",
   "pygments_lexer": "ipython3",
   "version": "3.7.6"
  }
 },
 "nbformat": 4,
 "nbformat_minor": 4
}
